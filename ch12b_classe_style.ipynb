{
 "cells": [
  {
   "cell_type": "markdown",
   "metadata": {},
   "source": [
    "<div class=\"alert alert-info\">\n",
    "\n",
    "# PSY 4016-G-H20\n",
    "# Cueillette et traitement des données en neurosciences cognitives\n",
    "## Chapitre 12\n",
    "<p>\n",
    "<li>La Classe\n",
    "<li>Les styles d'écriture de code python pour les classes et le fonctions"
   ]
  },
  {
   "cell_type": "markdown",
   "metadata": {},
   "source": [
    "<div class=\"alert alert-info\">\n",
    "<h3>La Class python</h3>\n",
    "</div>"
   ]
  },
  {
   "cell_type": "markdown",
   "metadata": {},
   "source": [
    "<div class=\"alert alert-success\">\n",
    "    <ul><b> Pourquoi les classes</b>\n",
    "    <li>Lorsque plusieurs fonctions font la même chose, il est souvent préférable de mettre toutes les fonctions dans une classe.\n",
    "    <li>Les fonctions font des choses.\n",
    "    <li>Les classes sont des choses spécifiques.\n",
    "    <li>Les classes ont des méthodes, qui sont des fonctions associées à une classe particulière.\n",
    "    <li>Les classes sont un moyen de regrouper des fonctions (en tant que méthodes) et des données (en tant que propriétés) dans une unité logique tournant autour d'une certaine chose.\n",
    "    <li>si l'objectif est petit, les fonctions peuvent être plus efficaces. \n",
    "    </ul></div>"
   ]
  },
  {
   "cell_type": "code",
   "execution_count": 37,
   "metadata": {},
   "outputs": [],
   "source": [
    "import pandas\n",
    "import os"
   ]
  },
  {
   "cell_type": "code",
   "execution_count": 38,
   "metadata": {},
   "outputs": [],
   "source": [
    "# OBJECTIVE 1: télécharger un fichier .xlsx\n",
    "\n",
    "file = 'nom_fichier.csv'\n",
    "def read_excel(file):\n",
    "    return pandas.read_excel(file)\n",
    "\n",
    "#for file in ():\n",
    "#    read_excel(file)\n",
    "    \n",
    "# OBJECTIVE 2: télécharger des fichiers .xslx, .csv\n",
    "\n",
    "# pour chaque fichier on doit utilisé différents commande:\n",
    "#     read_excel\n",
    "#     read_csv\n",
    "\n",
    "if os.path.exists(file):\n",
    "    if file.endswith(\"csv\"):\n",
    "        df =  pandas.read_csv(file)\n",
    "    if file.endswith(\"xlsx\"):\n",
    "        df = pandas.read_excel(file)\n",
    "\n",
    "# MÉTHODE:\n",
    "# définire une fonction pour le read_excel et une autre fonciton pour le read_csv\n",
    "# mais s'il y a d'autre paramètres - cela donne l\"obligation de créer des foncions pour chaque param.\n",
    "# les classes sont mieux:\n",
    "\n",
    "class READFILE:\n",
    "    \n",
    "    def __init__(self, file):\n",
    "        self.file = file\n",
    "        if file.endswith(\"csv\"):\n",
    "            self.read_csv()\n",
    "        elif file.endswith(\"xlsx\"):\n",
    "            self.read_excel()\n",
    "\n",
    "    def read_csv(self):\n",
    "        return pandas.read_csv(self.file)\n",
    "\n",
    "    def read_excel(self):\n",
    "        return pandas.read_excel(self.file)\n",
    "    \n",
    "    def verif_presence(self):\n",
    "        return os.path.exists(self.file)\n",
    "\n",
    "# de cette façon les classe sont plus fortes"
   ]
  },
  {
   "cell_type": "code",
   "execution_count": 43,
   "metadata": {},
   "outputs": [
    {
     "data": {
      "text/plain": [
       "'\\nclass NOM():\\n    données = valeur\\n    \\n    def nom_methode(self, args):\\n        self.membre = valeur\\n'"
      ]
     },
     "execution_count": 43,
     "metadata": {},
     "output_type": "execute_result"
    }
   ],
   "source": [
    "# STRUCTURE:\n",
    "\n",
    "'''\n",
    "class NOM():\n",
    "    données = valeur\n",
    "    \n",
    "    def nom_methode(self, args):\n",
    "        self.membre = valeur\n",
    "'''"
   ]
  },
  {
   "cell_type": "markdown",
   "metadata": {},
   "source": [
    "les classes admet 2 types d'opérations:\n",
    "\n",
    "* référenciation des attributs\n",
    "* instanciation"
   ]
  },
  {
   "cell_type": "markdown",
   "metadata": {},
   "source": [
    "Dans la référenciation on peut utiliser:\n",
    "\n",
    "* une variable, une fonction\n",
    "* une syntaxe\n",
    "* L'objet et valide si l'attribut fait partie de la classe"
   ]
  },
  {
   "cell_type": "code",
   "execution_count": 1,
   "metadata": {},
   "outputs": [],
   "source": [
    "# EXEMPLE:\n",
    "# instanciation d'une variable\n",
    "# création d'une classe nommée C avec une propriété nommée i:\n",
    "\n",
    "class C:\n",
    "    i= 100\n",
    "    b = 'bonjour'"
   ]
  },
  {
   "cell_type": "code",
   "execution_count": 56,
   "metadata": {},
   "outputs": [],
   "source": [
    "# la classe C peut maintenant être utilisée pour créer des objets:\n",
    "\n",
    "print(C.i)\n",
    "print(C.b)"
   ]
  },
  {
   "cell_type": "code",
   "execution_count": 3,
   "metadata": {},
   "outputs": [],
   "source": [
    "# instanciation d'une fonction\n",
    "\n",
    "class C0:\n",
    "    i= 100\n",
    "    b = 'bonjour'\n",
    "    \n",
    "    def réponse(self):\n",
    "        print('bonjour')"
   ]
  },
  {
   "cell_type": "code",
   "execution_count": 55,
   "metadata": {},
   "outputs": [],
   "source": [
    "p = C0()\n",
    "p.réponse()"
   ]
  },
  {
   "cell_type": "markdown",
   "metadata": {},
   "source": [
    "<div class=\"alert alert-success\">\n",
    "    <ul><b> les fonctions / méthodes spéciales</b>\n",
    "    <li> Une collection de méthodes spéciales, avec deux soulignements de début et de fin dans les noms de méthode\n",
    "    <li> offre une syntaxe spéciale dans les programmes Python\n",
    "    <li> __init__: est une fonction spéciale de la classe, permettant d'initialiser la classe\n",
    "    <li> quand la fonction __init__(): est utilisée, elle est toujours exécutée lorsque la classe est lancée\n",
    "    <li> la fonction __init__() est utilisée pour attribuer des valeurs aux propriétés de l'objet ou à d'autres opérations nécessaires à la création de l'objet\n",
    "    </ul></div>"
   ]
  },
  {
   "cell_type": "code",
   "execution_count": 5,
   "metadata": {},
   "outputs": [],
   "source": [
    "# EXEMPLE:\n",
    "\n",
    "class C1:\n",
    "    i= 0\n",
    "    \n",
    "    def __init__(self, nom, age):\n",
    "        self.nom = nom\n",
    "        self.age = age"
   ]
  },
  {
   "cell_type": "code",
   "execution_count": 54,
   "metadata": {},
   "outputs": [],
   "source": [
    "p1 = C1('André',36)\n",
    "\n",
    "# référence: renvoie l'entier (si présent):\n",
    "print(p1.i)\n",
    "\n",
    "# référence: renvoie l'objet fonction:\n",
    "print(p1.nom)\n",
    "print(p1.age)"
   ]
  },
  {
   "cell_type": "code",
   "execution_count": 7,
   "metadata": {},
   "outputs": [],
   "source": [
    "# EXEMPLE:\n",
    "\n",
    "class C2:\n",
    "    i= 0\n",
    "    \n",
    "    def __init__(self, nom, age):\n",
    "        self.nom = nom\n",
    "        self.age = age\n",
    "        \n",
    "    def func1(self):\n",
    "        print('Bonjour, je m\\'appelle ' + self.nom)\n",
    "        print('j\\'ai ' + str(self.age))"
   ]
  },
  {
   "cell_type": "code",
   "execution_count": 53,
   "metadata": {},
   "outputs": [],
   "source": [
    "# instanciation:\n",
    "\n",
    "p2 = C2('André', 36)\n",
    "p2.func1()"
   ]
  },
  {
   "cell_type": "code",
   "execution_count": 52,
   "metadata": {},
   "outputs": [],
   "source": [
    "# Qu'est-ce que le self?:\n",
    "\n",
    "class C2_self:\n",
    "    \n",
    "    def __init__(myvar, nom):\n",
    "        myvar.nom = nom\n",
    "        \n",
    "    def func1(myvar):\n",
    "        print('Bonjour, je m\\'appelle ' + myvar.nom)\n",
    "        #print('Bonjour, je m\\'appelle ' + nom)\n",
    "\n",
    "\n",
    "p3 = C2_self('TEST')\n",
    "p3.func1()\n",
    "\n",
    "# self est une variable utilisée pour définir\n",
    "# d'autres variables appartenant à la classe"
   ]
  },
  {
   "cell_type": "code",
   "execution_count": 51,
   "metadata": {},
   "outputs": [],
   "source": [
    "dir(C2_self)"
   ]
  },
  {
   "cell_type": "raw",
   "metadata": {},
   "source": [
    "Méthodes spéciales\n",
    "\n",
    "String Operators\n",
    "\n",
    "Operator          Method\n",
    "printable string  object.__repr__(self)\n",
    "string of object  object.__str__(self)\n",
    "\n",
    "Creating Containor-Like Operators\n",
    "\n",
    "Operator          Method\n",
    "Length             object.__len__(self)\n",
    "Get item           object.__getitem__(self, key)\n",
    "Set Item           object.__setitem__(self, key, item)\n",
    "Contains           object.__contains__(self, item)\n",
    "Iterator           object.__iter__(self)\n",
    "Next               object.__next__(self)\n",
    "\n",
    "\n",
    "Binary Operators\n",
    "\n",
    "Operator           Method\n",
    "+                  object.__add__(self, other)\n",
    "-                  object.__sub__(self, other)\n",
    "*                  object.__mul__(self, other)\n",
    "//                 object.__floordiv__(self, other)\n",
    "/                  object.__div__(self, other)\n",
    "%                  object.__mod__(self, other)\n",
    "**                 object.__pow__(self, other[, modulo])\n",
    "<<                 object.__lshift__(self, other)\n",
    ">>                 object.__rshift__(self, other)\n",
    "&                  object.__and__(self, other)\n",
    "^                  object.__xor__(self, other)\n",
    "|                  object.__or__(self, other)\n",
    "\n",
    "Assignment Operators:\n",
    "\n",
    "Operator          Method\n",
    "+=                object.__iadd__(self, other)\n",
    "-=                object.__isub__(self, other)\n",
    "*=                object.__imul__(self, other)\n",
    "/=                object.__idiv__(self, other)\n",
    "//=               object.__ifloordiv__(self, other)\n",
    "%=                object.__imod__(self, other)\n",
    "**=               object.__ipow__(self, other[, modulo])\n",
    "<<=               object.__ilshift__(self, other)\n",
    ">>=               object.__irshift__(self, other)\n",
    "&=                object.__iand__(self, other)\n",
    "^=                object.__ixor__(self, other)\n",
    "|=                object.__ior__(self, other)\n",
    "\n",
    "Unary Operators:\n",
    "\n",
    "Operator          Method\n",
    "-                 object.__neg__(self)\n",
    "+                 object.__pos__(self)\n",
    "abs()             object.__abs__(self)\n",
    "~                 object.__invert__(self)\n",
    "complex()         object.__complex__(self)\n",
    "int()             object.__int__(self)\n",
    "long()            object.__long__(self)\n",
    "float()           object.__float__(self)\n",
    "oct()             object.__oct__(self)\n",
    "hex()             object.__hex__(self)\n",
    "\n",
    "Comparison Operators\n",
    "\n",
    "Operator          Method\n",
    "<                 object.__lt__(self, other)\n",
    "<=                object.__le__(self, other)\n",
    "==                object.__eq__(self, other)\n",
    "!=                object.__ne__(self, other)\n",
    ">=                object.__ge__(self, other)\n",
    ">                 object.__gt__(self, other)"
   ]
  },
  {
   "cell_type": "code",
   "execution_count": 12,
   "metadata": {},
   "outputs": [],
   "source": [
    "class Language():\n",
    "    \n",
    "    def __init__(self, name):\n",
    "        self.name = name.lower()\n",
    "        \n",
    "    def __repr__(self):\n",
    "        \"\"\" Renvoie une chaîne imprimable\n",
    "\n",
    "        Returns\n",
    "        -------\n",
    "        str\"\"\"\n",
    "        return \"le langage de programmation \"+self.name\n",
    "    \n",
    "    def __gt__(self, other):\n",
    "        return True if self.name == 'python' else False"
   ]
  },
  {
   "cell_type": "code",
   "execution_count": 13,
   "metadata": {},
   "outputs": [],
   "source": [
    "python = Language('python')\n",
    "java   = Language('java')"
   ]
  },
  {
   "cell_type": "code",
   "execution_count": 50,
   "metadata": {},
   "outputs": [],
   "source": [
    "print(python)"
   ]
  },
  {
   "cell_type": "code",
   "execution_count": 49,
   "metadata": {},
   "outputs": [],
   "source": [
    "print(java)"
   ]
  },
  {
   "cell_type": "code",
   "execution_count": 48,
   "metadata": {},
   "outputs": [],
   "source": [
    "python > java"
   ]
  },
  {
   "cell_type": "code",
   "execution_count": 41,
   "metadata": {
    "scrolled": true
   },
   "outputs": [],
   "source": [
    "class MaListe:\n",
    "\n",
    "    def __init__(self, *args):\n",
    "        if len(args) == 1 and hasattr(args[0], '__iter__'):\n",
    "            # Gère `MaListe([1, 2, 3])\n",
    "            self._data = list(args[0])\n",
    "        else:\n",
    "            # Gère \"MaListe(1, 2, 3)\"\n",
    "            self._data = list(args)\n",
    "\n",
    "    def __repr__(self):\n",
    "        \"\"\" Utilisez le caractère | comme délimiteur de la liste\"\"\"\n",
    "        # 'self._data.__repr__()' renvoie '[ ... ]',\n",
    "        # on peut donc découper pour obtenir le contenu de la chaîne\n",
    "        # et exclure les crochets, et ajouter nos propres\n",
    "        # délimiteurs à la place\n",
    "        return \"|\" + self._data.__repr__()[1:-1] + \"|\"\n",
    "\n",
    "    def __getitem__(self, index):\n",
    "        out = self._data[index]\n",
    "        # \"list ou slice\" doit renvoyer une instance de 'MaListe'\n",
    "        # sinon l'élément individuel sera renvoyé tel quel\n",
    "\n",
    "        # Version 1 du code:\n",
    "        # if isinstance(index, list): #alternative: slice\n",
    "        #     return MaList(out)\n",
    "        # else:\n",
    "        #     return out\n",
    "\n",
    "        # Version 2 du même code - one-liner:\n",
    "        return MaListe(out) if isinstance(index, list) else out #alternative de list: slice\n",
    "\n",
    "    def __setitem__(self, key, value):\n",
    "        self._data[key] = value\n",
    "\n",
    "    def __len__(self):\n",
    "        return len(self._data)\n",
    "\n",
    "\n",
    "    def __contains__(self, item):\n",
    "        return item in self._data\n",
    "\n",
    "    def append(self, item):\n",
    "        self._data.append(item)\n",
    "\n",
    "# hasattr() est une fonction de vérification, le __init__ se trouve dans la variable.\n",
    "# utilisez dir(variable) pour voir l'attribut __init__\n",
    "# isinstance() - est une fonctions similaire avec la fonction type(), e.g.: if type(valeur) == slice\n",
    "# slice - est un type de paramètres qui vérifie le type pour list, tuple, string et d'autre.\n",
    "# pour la classe MaListe - au lieu de \"slice\" - on peux utiliser l'attribut \"list\""
   ]
  },
  {
   "cell_type": "code",
   "execution_count": 42,
   "metadata": {},
   "outputs": [
    {
     "data": {
      "text/plain": [
       "|'b', 'o', 'n', 'j', 'o', 'u', 'r'|"
      ]
     },
     "execution_count": 42,
     "metadata": {},
     "output_type": "execute_result"
    }
   ],
   "source": [
    "# MaListe peut accepter tout itérable comme son \n",
    "# premier (et seul) argument d'entrée # exemple en utilisant la fonction __repr__(self)\n",
    "\n",
    "x = MaListe(\"bonjour\")\n",
    "x"
   ]
  },
  {
   "cell_type": "code",
   "execution_count": 20,
   "metadata": {},
   "outputs": [
    {
     "data": {
      "text/plain": [
       "|1, 2, 3, 4, 5|"
      ]
     },
     "execution_count": 20,
     "metadata": {},
     "output_type": "execute_result"
    }
   ],
   "source": [
    "# MaListe accepte un nombre arbitraire d'arguments # exemple en utilisant la fonction __repr__(self)\n",
    "\n",
    "x = MaListe(1, 2, 3, 4, 5)\n",
    "x"
   ]
  },
  {
   "cell_type": "code",
   "execution_count": 45,
   "metadata": {},
   "outputs": [
    {
     "data": {
      "text/plain": [
       "||"
      ]
     },
     "execution_count": 45,
     "metadata": {},
     "output_type": "execute_result"
    }
   ],
   "source": [
    "# exemple en utilisant la fonction __repr__(self)\n",
    "\n",
    "MaListe()"
   ]
  },
  {
   "cell_type": "code",
   "execution_count": 14,
   "metadata": {},
   "outputs": [
    {
     "data": {
      "text/plain": [
       "|'n', 'j'|"
      ]
     },
     "execution_count": 14,
     "metadata": {},
     "output_type": "execute_result"
    }
   ],
   "source": [
    "# le découpage renvoie une instance MaListe, en utilisant la fonction __repr__(self)\n",
    "\n",
    "x[2:4]"
   ]
  },
  {
   "cell_type": "code",
   "execution_count": 21,
   "metadata": {},
   "outputs": [
    {
     "data": {
      "text/plain": [
       "1"
      ]
     },
     "execution_count": 21,
     "metadata": {},
     "output_type": "execute_result"
    }
   ],
   "source": [
    "# obtenir un item # exemple en utilisant la fonction __getitem__(self, index)\n",
    "\n",
    "x[0]"
   ]
  },
  {
   "cell_type": "code",
   "execution_count": 42,
   "metadata": {},
   "outputs": [],
   "source": [
    "# définir un item, en utilisant la fonction __setitem__(self, key, value)\n",
    "\n",
    "x[0] = -1\n",
    "x"
   ]
  },
  {
   "cell_type": "code",
   "execution_count": 43,
   "metadata": {},
   "outputs": [
    {
     "data": {
      "text/plain": [
       "7"
      ]
     },
     "execution_count": 43,
     "metadata": {},
     "output_type": "execute_result"
    }
   ],
   "source": [
    "# exemple en utilisant la fonction __len__(self)\n",
    "\n",
    "len(x)"
   ]
  },
  {
   "cell_type": "code",
   "execution_count": 41,
   "metadata": {},
   "outputs": [],
   "source": [
    "# vérifier l'appartenance, en utilisant la fonction __contains__(self, item)\n",
    "\n",
    "10 in x"
   ]
  },
  {
   "cell_type": "code",
   "execution_count": 44,
   "metadata": {},
   "outputs": [
    {
     "data": {
      "text/plain": [
       "|'b', 'o', 'n', 'j', 'o', 'u', 'r', 'm'|"
      ]
     },
     "execution_count": 44,
     "metadata": {},
     "output_type": "execute_result"
    }
   ],
   "source": [
    "# en utilisant la fonction append(self, item)\n",
    "# !! la fonction append N'EST PAS spéciale, elle doit être appélée\n",
    "\n",
    "x.append('m')\n",
    "x"
   ]
  },
  {
   "cell_type": "code",
   "execution_count": 26,
   "metadata": {},
   "outputs": [],
   "source": [
    "# heritage / inheritance\n",
    "\n",
    "class Animale():\n",
    "    \n",
    "    # Créer un attribut de classe: \n",
    "    domain = 'mondomain'\n",
    "    \n",
    "    # Utiliser init pour définir les attributs des instances: \n",
    "    def __init__(self, son):\n",
    "        self.son = son\n",
    "        \n",
    "    # Définir une méthode de classe: \n",
    "    def parler(self):\n",
    "        print(self.son)"
   ]
  },
  {
   "cell_type": "code",
   "execution_count": 39,
   "metadata": {},
   "outputs": [],
   "source": [
    "albert = Animale('wouf')\n",
    "\n",
    "albert.parler()"
   ]
  },
  {
   "cell_type": "code",
   "execution_count": 38,
   "metadata": {},
   "outputs": [],
   "source": [
    "dir(Animale)"
   ]
  },
  {
   "cell_type": "code",
   "execution_count": 29,
   "metadata": {},
   "outputs": [],
   "source": [
    "# La fonction super() permet d'appeler les méthodes\n",
    "# de la superclasse dans votre sous-classe\n",
    "\n",
    "class Singe(Animale):\n",
    "    \n",
    "    def __init__(self, son):\n",
    "        super().__init__(son)\n",
    "        self.a_des_mains = True\n",
    "        \n",
    "    def verifier_les_mains(self):\n",
    "        if self.a_des_mains:\n",
    "            print('Cet animal avait des mains! ')"
   ]
  },
  {
   "cell_type": "code",
   "execution_count": 37,
   "metadata": {},
   "outputs": [],
   "source": [
    "variable = Singe('Bruit de singe')\n",
    "\n",
    "variable.parler()"
   ]
  },
  {
   "cell_type": "code",
   "execution_count": 36,
   "metadata": {},
   "outputs": [],
   "source": [
    "jeff = Singe('wouf')\n",
    "\n",
    "jeff.verifier_les_mains()"
   ]
  },
  {
   "cell_type": "code",
   "execution_count": 34,
   "metadata": {},
   "outputs": [],
   "source": [
    "dir(Singe)"
   ]
  },
  {
   "cell_type": "markdown",
   "metadata": {},
   "source": [
    "<div class=\"alert alert-info\">\n",
    "<h3>Les styles d'écriture pour les fonctions et les classes </h3>\n",
    "</div>"
   ]
  },
  {
   "cell_type": "code",
   "execution_count": 19,
   "metadata": {},
   "outputs": [],
   "source": [
    "# Écriture moche\n",
    "\n",
    "def my_func():\n",
    "    my_nums = '123'\n",
    "    output = ''\n",
    "    for num in my_nums:\n",
    "        output += str(int(num) + 1)\n",
    "    return output"
   ]
  },
  {
   "cell_type": "code",
   "execution_count": 20,
   "metadata": {},
   "outputs": [],
   "source": [
    "# Écriture agréable\n",
    "\n",
    "def my_func():\n",
    "    \n",
    "    my_nums = '123'\n",
    "    output = ''\n",
    "    \n",
    "    for num in my_nums:\n",
    "        output += str(int(num) + 1)\n",
    "    \n",
    "    return output"
   ]
  },
  {
   "cell_type": "markdown",
   "metadata": {},
   "source": [
    "<div class=\"alert alert-success\">\n",
    "<ul>\n",
    "    <li>Évité les déclarations condensées.\n",
    "    <li>Privilégié les multilignes\n",
    "    </ul></div>"
   ]
  },
  {
   "cell_type": "code",
   "execution_count": 10,
   "metadata": {},
   "outputs": [],
   "source": [
    "# Écriture moche\n",
    "\n",
    "for i in [1, 2, 3]: print(i**2 + i%2)"
   ]
  },
  {
   "cell_type": "code",
   "execution_count": 11,
   "metadata": {},
   "outputs": [],
   "source": [
    "# Écriture agréable\n",
    "\n",
    "for i in [1, 2, 3]:\n",
    "    print(i**2 + i%2)"
   ]
  },
  {
   "cell_type": "markdown",
   "metadata": {},
   "source": [
    "<div class=\"alert alert-success\">\n",
    "<ul><b>Les noms</b>\n",
    "    <li>Utilisez des noms descriptifs de plus d'un caractère\n",
    "    <li>pour Classes: lettres Majuscules, pas de séparation\n",
    "    <li>pour les fonctions: lettres minuscule, séparateur par soulignement\n",
    "    </ul></div>"
   ]
  },
  {
   "cell_type": "code",
   "execution_count": 2,
   "metadata": {},
   "outputs": [],
   "source": [
    "# Écriture moche\n",
    "def MyFunc():\n",
    "    pass\n",
    "    \n",
    "class my_class():\n",
    "    def __init__():\n",
    "        pass"
   ]
  },
  {
   "cell_type": "code",
   "execution_count": 3,
   "metadata": {},
   "outputs": [],
   "source": [
    "# Écriture agréable\n",
    "\n",
    "def my_func():\n",
    "    \n",
    "    pass\n",
    "\n",
    "\n",
    "class MyClass():\n",
    "    \n",
    "    def __init__():\n",
    "        pass"
   ]
  },
  {
   "cell_type": "markdown",
   "metadata": {},
   "source": [
    "<div class=\"alert alert-danger\">\n",
    "<b>les commandes et codes à apprendre par cœur </b></div>"
   ]
  },
  {
   "cell_type": "raw",
   "metadata": {},
   "source": [
    "class MaListe\n",
    "\n",
    "# heritage / inheritance\n",
    "class C1():\n",
    "\n",
    "    i = 0\n",
    "\n",
    "    def __init__(self, var1):\n",
    "        self.var1 = var1\n",
    "\n",
    "    def __repr__(self):\n",
    "        \"\"\" Déscription\n",
    "        Args:\n",
    "        Return:\n",
    "        \"\"\"\n",
    "        return self.var1\n",
    "\n",
    "    def __gt__(self, other):\n",
    "        return True if self.var1 == 'text' else False\n",
    "\n",
    "class C2(C1):\n",
    "\n",
    "    def __init__(self, var2):\n",
    "        super().__init__(var2)\n",
    "        self.var2 = var2\n",
    "\n",
    "    def fonc1(self):\n",
    "        pass\n",
    "\n",
    "\n",
    "class Animale():\n",
    "    \n",
    "    domain = 'mondomain'\n",
    "    \n",
    "    def __init__(self, son):\n",
    "        self.son = son\n",
    "        \n",
    "    def parler(self):\n",
    "        print(self.son)\n",
    "\n",
    "\n",
    "class Singe(Animale):\n",
    "    \n",
    "    def __init__(self, son):\n",
    "        super().__init__(son)\n",
    "        self.a_des_mains = True\n",
    "        \n",
    "    def verifier_les_mains(self):\n",
    "        if self.a_des_mains:\n",
    "            print('Cet animal avait des mains! ')"
   ]
  },
  {
   "cell_type": "markdown",
   "metadata": {},
   "source": [
    "<div class=\"alert alert-danger\">\n",
    "<h3>Exercises</h3>\n",
    "</div>"
   ]
  },
  {
   "cell_type": "code",
   "execution_count": null,
   "metadata": {},
   "outputs": [],
   "source": [
    "def make_df(columns, index):\n",
    "    data = {a : [str(a) + str(i) for i in index] for a in columns}\n",
    "    return pandas.DataFrame(data, index)\n",
    "\n",
    "df_Concat1 = make_df('AB',[1,2])\n",
    "df_Concat2 = make_df('CD',[3,4])\n",
    "df_Conc = pandas.concat([df_Concat1, df_Concat2], sort=False)\n",
    "\n",
    "# en utilisant la fonction make_df:\n",
    "# créez une autre fonction qui\n",
    "# donnera en sortie 3 cadres de données\n",
    "# basées sur les valeurs fournies par l'utilisateur (input)\n",
    "# enregistrera automatiquement le cadre de données dans un fichier csv\n",
    "\n",
    "# créez une classe avec le même objectifs\n",
    "\n",
    "# créez deux classes, avec le même objectifs, en utilisant la méthode d'héritage\n",
    "\n",
    "# créez 6 versions: 3 versions avec 'écriture moche' (le plus moche possible) et 3 versions avec 'écriture agréable'"
   ]
  }
 ],
 "metadata": {
  "anaconda-cloud": {},
  "celltoolbar": "Slideshow",
  "kernelspec": {
   "display_name": "Python 3 (ipykernel)",
   "language": "python",
   "name": "python3"
  },
  "language_info": {
   "codemirror_mode": {
    "name": "ipython",
    "version": 3
   },
   "file_extension": ".py",
   "mimetype": "text/x-python",
   "name": "python",
   "nbconvert_exporter": "python",
   "pygments_lexer": "ipython3",
   "version": "3.10.1"
  }
 },
 "nbformat": 4,
 "nbformat_minor": 2
}
